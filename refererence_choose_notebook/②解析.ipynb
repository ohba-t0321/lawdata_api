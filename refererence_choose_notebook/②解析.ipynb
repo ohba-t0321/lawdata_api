{
 "cells": [
  {
   "cell_type": "code",
   "execution_count": 1,
   "metadata": {},
   "outputs": [],
   "source": [
    "import os\n",
    "import glob\n",
    "import xml\n",
    "from bs4 import BeautifulSoup as bs\n",
    "import pandas as pd\n",
    "import re\n",
    "from tqdm.notebook import tqdm"
   ]
  },
  {
   "cell_type": "code",
   "execution_count": 2,
   "metadata": {},
   "outputs": [],
   "source": [
    "# 漢数字を算用数字に直す関数\n",
    "def kanji_to_number(kanji):\n",
    "    if kanji:\n",
    "        kanji_map = {\n",
    "            '〇': 0, '一': 1, '二': 2, '三': 3, '四': 4, '五': 5,\n",
    "            '六': 6, '七': 7, '八': 8, '九': 9, '十': 10, '百': 100,\n",
    "            '千': 1000, '万': 10000, '億': 100000000, '兆': 1000000000000,\n",
    "        }\n",
    "        result = 0\n",
    "        temp = 0\n",
    "        temp_10000 = 0\n",
    "        current_multiplier = 1\n",
    "        base_multiplier = 1\n",
    "\n",
    "        for char in reversed(kanji):\n",
    "            value = kanji_map[char]\n",
    "\n",
    "            if value >= 10000:\n",
    "                if current_multiplier > 1:\n",
    "                    temp_10000 += current_multiplier\n",
    "                temp += temp_10000 * base_multiplier\n",
    "                base_multiplier = value\n",
    "                current_multiplier = 1\n",
    "                temp_10000 = 0\n",
    "            elif value >= 10:\n",
    "                if current_multiplier > 1:\n",
    "                    temp_10000 += current_multiplier\n",
    "                current_multiplier = value\n",
    "            else:\n",
    "                temp_10000 += value * current_multiplier\n",
    "                current_multiplier = 1\n",
    "        \n",
    "        if current_multiplier > 1:\n",
    "            temp_10000 += current_multiplier\n",
    "        temp += temp_10000 * base_multiplier\n",
    "        return str(temp)\n",
    "    return ''"
   ]
  },
  {
   "cell_type": "code",
   "execution_count": 3,
   "metadata": {},
   "outputs": [],
   "source": [
    "def wareki_to_seireki8(wareki):\n",
    "    '''\n",
    "    和暦から西暦8桁の数値を返す関数。\n",
    "    warekiのテキストの中に複数の日付と思われるテキストとマッチした時には先頭の日付のみを返す。\n",
    "    '''\n",
    "    gengo_dict = {\n",
    "        '明治':1867,\n",
    "        '大正':1911,\n",
    "        '昭和':1925,\n",
    "        '平成':1988,\n",
    "        '令和':2018,\n",
    "    }\n",
    "    pattern = re.compile(r'(明治|大正|昭和|平成|令和)([一二三四五六七八九十]+)年([一二三四五六七八九十]+)月([一二三四五六七八九十]+)日')\n",
    "    wareki = wareki.replace('元年', '一年')\n",
    "    date = re.findall(pattern,wareki)\n",
    "    if len(date)>0:\n",
    "        gengo = date[0][0]\n",
    "        wareki_nen = kanji_to_number(date[0][1])\n",
    "        wareki_tsuki = kanji_to_number(date[0][2])\n",
    "        wareki_hi = kanji_to_number(date[0][3])\n",
    "\n",
    "        gengo_nen = gengo_dict.get(gengo)\n",
    "        if not gengo_nen:\n",
    "            return 0\n",
    "        if wareki_nen =='' or wareki_tsuki == '' or wareki_hi == '':\n",
    "            return 0\n",
    "        else:\n",
    "            return (gengo_nen + int(wareki_nen)) * 10000 + int(wareki_tsuki) * 100 + int(wareki_hi)\n",
    "        \n",
    "\n"
   ]
  },
  {
   "cell_type": "code",
   "execution_count": 4,
   "metadata": {},
   "outputs": [],
   "source": [
    "all_law_list = pd.read_csv('./all_xml/all_law_list.csv')\n",
    "# 未施行のものはいったん無視する\n",
    "all_law_list = all_law_list[all_law_list['未施行'].isna()]\n",
    "# 法令番号をキーにできるようにする\n",
    "all_law_list.set_index('法令番号',inplace=True)"
   ]
  },
  {
   "cell_type": "code",
   "execution_count": 5,
   "metadata": {},
   "outputs": [],
   "source": [
    "# 日付に関する項目を和暦から西暦にする（ソートするため）\n",
    "all_law_list['公布日'] = all_law_list['公布日'].apply(lambda x:wareki_to_seireki8(x))\n",
    "all_law_list['改正法令公布日'] = all_law_list['改正法令公布日'].apply(lambda x:wareki_to_seireki8(x))\n",
    "all_law_list['施行日'] = all_law_list['施行日'].apply(lambda x:wareki_to_seireki8(x))"
   ]
  },
  {
   "cell_type": "code",
   "execution_count": 6,
   "metadata": {},
   "outputs": [],
   "source": [
    "# 各法令の中で、施行日が一番新しいデータに絞り込む\n",
    "all_law_list = all_law_list.sort_values(['法令番号','施行日'],ascending=[True,False]).groupby('法令番号').head(1)"
   ]
  },
  {
   "cell_type": "code",
   "execution_count": 7,
   "metadata": {},
   "outputs": [
    {
     "data": {
      "text/html": [
       "<div>\n",
       "<style scoped>\n",
       "    .dataframe tbody tr th:only-of-type {\n",
       "        vertical-align: middle;\n",
       "    }\n",
       "\n",
       "    .dataframe tbody tr th {\n",
       "        vertical-align: top;\n",
       "    }\n",
       "\n",
       "    .dataframe thead th {\n",
       "        text-align: right;\n",
       "    }\n",
       "</style>\n",
       "<table border=\"1\" class=\"dataframe\">\n",
       "  <thead>\n",
       "    <tr style=\"text-align: right;\">\n",
       "      <th></th>\n",
       "      <th>法令種別</th>\n",
       "      <th>法令名</th>\n",
       "      <th>法令名読み</th>\n",
       "      <th>旧法令名</th>\n",
       "      <th>公布日</th>\n",
       "      <th>改正法令名</th>\n",
       "      <th>改正法令番号</th>\n",
       "      <th>改正法令公布日</th>\n",
       "      <th>施行日</th>\n",
       "      <th>施行日備考</th>\n",
       "      <th>法令ID</th>\n",
       "      <th>本文URL</th>\n",
       "      <th>未施行</th>\n",
       "    </tr>\n",
       "    <tr>\n",
       "      <th>法令番号</th>\n",
       "      <th></th>\n",
       "      <th></th>\n",
       "      <th></th>\n",
       "      <th></th>\n",
       "      <th></th>\n",
       "      <th></th>\n",
       "      <th></th>\n",
       "      <th></th>\n",
       "      <th></th>\n",
       "      <th></th>\n",
       "      <th></th>\n",
       "      <th></th>\n",
       "      <th></th>\n",
       "    </tr>\n",
       "  </thead>\n",
       "  <tbody>\n",
       "    <tr>\n",
       "      <th>令和三年カジノ管理委員会・法務省令第一号</th>\n",
       "      <td>府省令</td>\n",
       "      <td>特定資金移動履行保証金及び特定資金受入保証金に関する規則</td>\n",
       "      <td>とくていしきんいどうりこうほしょうきんおよびとくていしきんうけいれほしょうきんにかんするきそく</td>\n",
       "      <td>NaN</td>\n",
       "      <td>20210716</td>\n",
       "      <td>NaN</td>\n",
       "      <td>NaN</td>\n",
       "      <td>20210716</td>\n",
       "      <td>20210719</td>\n",
       "      <td>NaN</td>\n",
       "      <td>503M62000010001</td>\n",
       "      <td>https://laws.e-gov.go.jp/law/503M62000010001/2...</td>\n",
       "      <td>NaN</td>\n",
       "    </tr>\n",
       "    <tr>\n",
       "      <th>令和三年カジノ管理委員会規則第一号</th>\n",
       "      <td>規則</td>\n",
       "      <td>カジノ管理委員会関係特定複合観光施設区域整備法施行規則</td>\n",
       "      <td>かじのかんりいいんかいかんけいとくていふくごうかんこうしせつくいきせいびほうしこうきそく</td>\n",
       "      <td>NaN</td>\n",
       "      <td>20210716</td>\n",
       "      <td>カジノ管理委員会関係特定複合観光施設区域整備法施行規則の一部を改正する規則</td>\n",
       "      <td>令和六年カジノ管理委員会規則第二号</td>\n",
       "      <td>20240325</td>\n",
       "      <td>20240401</td>\n",
       "      <td>NaN</td>\n",
       "      <td>503M62000000001</td>\n",
       "      <td>https://laws.e-gov.go.jp/law/503M62000000001/2...</td>\n",
       "      <td>NaN</td>\n",
       "    </tr>\n",
       "    <tr>\n",
       "      <th>令和三年カジノ管理委員会規則第三号</th>\n",
       "      <td>規則</td>\n",
       "      <td>カジノ管理委員会の所管する法令に係る情報通信技術を活用した行政の推進等に関する法律施行規則</td>\n",
       "      <td>かじのかんりいいんかいのしょかんするほうれいにかかるじょうほうつうしんぎじゅつをかつようした...</td>\n",
       "      <td>NaN</td>\n",
       "      <td>20210716</td>\n",
       "      <td>カジノ管理委員会の所管する法令に係る情報通信技術を活用した行政の推進等に関する法律施行規則の...</td>\n",
       "      <td>令和六年カジノ管理委員会規則第一号</td>\n",
       "      <td>20240301</td>\n",
       "      <td>20240301</td>\n",
       "      <td>NaN</td>\n",
       "      <td>503M62000000003</td>\n",
       "      <td>https://laws.e-gov.go.jp/law/503M62000000003/2...</td>\n",
       "      <td>NaN</td>\n",
       "    </tr>\n",
       "    <tr>\n",
       "      <th>令和三年カジノ管理委員会規則第二号</th>\n",
       "      <td>規則</td>\n",
       "      <td>特定複合観光施設区域整備法関係手数料規則</td>\n",
       "      <td>とくていふくごうかんこうしせつくいきせいびほうかんけいてすうりょうきそく</td>\n",
       "      <td>NaN</td>\n",
       "      <td>20210716</td>\n",
       "      <td>特定複合観光施設区域整備法関係手数料規則の一部を改正する規則</td>\n",
       "      <td>令和四年カジノ管理委員会規則第三号</td>\n",
       "      <td>20221102</td>\n",
       "      <td>20221102</td>\n",
       "      <td>NaN</td>\n",
       "      <td>503M62000000002</td>\n",
       "      <td>https://laws.e-gov.go.jp/law/503M62000000002/2...</td>\n",
       "      <td>NaN</td>\n",
       "    </tr>\n",
       "    <tr>\n",
       "      <th>令和三年デジタル庁令第一号</th>\n",
       "      <td>府省令</td>\n",
       "      <td>デジタル庁組織規則</td>\n",
       "      <td>でじたるちょうそしききそく</td>\n",
       "      <td>NaN</td>\n",
       "      <td>20210901</td>\n",
       "      <td>デジタル庁組織規則の一部を改正する庁令</td>\n",
       "      <td>令和六年デジタル庁令第四号</td>\n",
       "      <td>20240329</td>\n",
       "      <td>20240401</td>\n",
       "      <td>NaN</td>\n",
       "      <td>503M60004000001</td>\n",
       "      <td>https://laws.e-gov.go.jp/law/503M60004000001/2...</td>\n",
       "      <td>NaN</td>\n",
       "    </tr>\n",
       "  </tbody>\n",
       "</table>\n",
       "</div>"
      ],
      "text/plain": [
       "                     法令種別                                            法令名  \\\n",
       "法令番号                                                                       \n",
       "令和三年カジノ管理委員会・法務省令第一号  府省令                   特定資金移動履行保証金及び特定資金受入保証金に関する規則   \n",
       "令和三年カジノ管理委員会規則第一号      規則                    カジノ管理委員会関係特定複合観光施設区域整備法施行規則   \n",
       "令和三年カジノ管理委員会規則第三号      規則  カジノ管理委員会の所管する法令に係る情報通信技術を活用した行政の推進等に関する法律施行規則   \n",
       "令和三年カジノ管理委員会規則第二号      規則                           特定複合観光施設区域整備法関係手数料規則   \n",
       "令和三年デジタル庁令第一号         府省令                                      デジタル庁組織規則   \n",
       "\n",
       "                                                                  法令名読み 旧法令名  \\\n",
       "法令番号                                                                           \n",
       "令和三年カジノ管理委員会・法務省令第一号    とくていしきんいどうりこうほしょうきんおよびとくていしきんうけいれほしょうきんにかんするきそく  NaN   \n",
       "令和三年カジノ管理委員会規則第一号          かじのかんりいいんかいかんけいとくていふくごうかんこうしせつくいきせいびほうしこうきそく  NaN   \n",
       "令和三年カジノ管理委員会規則第三号     かじのかんりいいんかいのしょかんするほうれいにかかるじょうほうつうしんぎじゅつをかつようした...  NaN   \n",
       "令和三年カジノ管理委員会規則第二号                  とくていふくごうかんこうしせつくいきせいびほうかんけいてすうりょうきそく  NaN   \n",
       "令和三年デジタル庁令第一号                                             でじたるちょうそしききそく  NaN   \n",
       "\n",
       "                           公布日  \\\n",
       "法令番号                             \n",
       "令和三年カジノ管理委員会・法務省令第一号  20210716   \n",
       "令和三年カジノ管理委員会規則第一号     20210716   \n",
       "令和三年カジノ管理委員会規則第三号     20210716   \n",
       "令和三年カジノ管理委員会規則第二号     20210716   \n",
       "令和三年デジタル庁令第一号         20210901   \n",
       "\n",
       "                                                                  改正法令名  \\\n",
       "法令番号                                                                      \n",
       "令和三年カジノ管理委員会・法務省令第一号                                                NaN   \n",
       "令和三年カジノ管理委員会規則第一号                 カジノ管理委員会関係特定複合観光施設区域整備法施行規則の一部を改正する規則   \n",
       "令和三年カジノ管理委員会規則第三号     カジノ管理委員会の所管する法令に係る情報通信技術を活用した行政の推進等に関する法律施行規則の...   \n",
       "令和三年カジノ管理委員会規則第二号                        特定複合観光施設区域整備法関係手数料規則の一部を改正する規則   \n",
       "令和三年デジタル庁令第一号                                       デジタル庁組織規則の一部を改正する庁令   \n",
       "\n",
       "                                 改正法令番号   改正法令公布日       施行日 施行日備考  \\\n",
       "法令番号                                                                \n",
       "令和三年カジノ管理委員会・法務省令第一号                NaN  20210716  20210719   NaN   \n",
       "令和三年カジノ管理委員会規則第一号     令和六年カジノ管理委員会規則第二号  20240325  20240401   NaN   \n",
       "令和三年カジノ管理委員会規則第三号     令和六年カジノ管理委員会規則第一号  20240301  20240301   NaN   \n",
       "令和三年カジノ管理委員会規則第二号     令和四年カジノ管理委員会規則第三号  20221102  20221102   NaN   \n",
       "令和三年デジタル庁令第一号             令和六年デジタル庁令第四号  20240329  20240401   NaN   \n",
       "\n",
       "                                 法令ID  \\\n",
       "法令番号                                    \n",
       "令和三年カジノ管理委員会・法務省令第一号  503M62000010001   \n",
       "令和三年カジノ管理委員会規則第一号     503M62000000001   \n",
       "令和三年カジノ管理委員会規則第三号     503M62000000003   \n",
       "令和三年カジノ管理委員会規則第二号     503M62000000002   \n",
       "令和三年デジタル庁令第一号         503M60004000001   \n",
       "\n",
       "                                                                  本文URL  未施行  \n",
       "法令番号                                                                          \n",
       "令和三年カジノ管理委員会・法務省令第一号  https://laws.e-gov.go.jp/law/503M62000010001/2...  NaN  \n",
       "令和三年カジノ管理委員会規則第一号     https://laws.e-gov.go.jp/law/503M62000000001/2...  NaN  \n",
       "令和三年カジノ管理委員会規則第三号     https://laws.e-gov.go.jp/law/503M62000000003/2...  NaN  \n",
       "令和三年カジノ管理委員会規則第二号     https://laws.e-gov.go.jp/law/503M62000000002/2...  NaN  \n",
       "令和三年デジタル庁令第一号         https://laws.e-gov.go.jp/law/503M60004000001/2...  NaN  "
      ]
     },
     "execution_count": 7,
     "metadata": {},
     "output_type": "execute_result"
    }
   ],
   "source": [
    "# 具体的にデータを確認\n",
    "all_law_list.head(5)"
   ]
  },
  {
   "cell_type": "code",
   "execution_count": 8,
   "metadata": {},
   "outputs": [],
   "source": [
    "# 法令番号をキー、法令名を値にした辞書を作成\n",
    "law_dict = all_law_list['法令名'].to_dict()"
   ]
  },
  {
   "cell_type": "code",
   "execution_count": 9,
   "metadata": {},
   "outputs": [],
   "source": [
    "# XMLの「Sentence」から法令の条数を導出する関数\n",
    "def getarticle(sentence):\n",
    "    provision_sentence = sentence.findParent('MainProvision')\n",
    "    if provision_sentence:\n",
    "        provision_num = 'MainProvision'\n",
    "    else:\n",
    "        provision_sentence = sentence.findParent('SupplProvision')\n",
    "        if provision_sentence and provision_sentence.get_attribute_list('AmendLawNum')[0]:\n",
    "            provision_num = provision_sentence.get_attribute_list('AmendLawNum')[0]\n",
    "        else:\n",
    "            provision_num = 'SupplProvision'\n",
    "    article_sentence = sentence.findParent('Article')\n",
    "    if article_sentence:\n",
    "        article_num = article_sentence.get_attribute_list('Num')[0]\n",
    "    else:\n",
    "        article_num = '0'\n",
    "    paragraph_sentence = sentence.findParent('Paragraph')\n",
    "    if paragraph_sentence:\n",
    "        paragraph_num = paragraph_sentence.get_attribute_list('Num')[0]\n",
    "    else:\n",
    "        paragraph_num = '1'\n",
    "    item_sentence = sentence.findParent('Item')\n",
    "    if item_sentence:\n",
    "        item_num = item_sentence.get_attribute_list('Num')[0]\n",
    "    else:\n",
    "        item_num = '0'\n",
    "    return provision_num, article_num, paragraph_num, item_num, sentence.get_text()"
   ]
  },
  {
   "cell_type": "code",
   "execution_count": 10,
   "metadata": {},
   "outputs": [],
   "source": [
    "# 関連法令を探してデータに追加する関数\n",
    "def refer_list(soup, law_dict, law_id):\n",
    "    return_list = []\n",
    "    search_results = []\n",
    "    synonym = {}\n",
    "\n",
    "    search_results = []\n",
    "    synonym = {}\n",
    "    if not soup:\n",
    "        return\n",
    "    \n",
    "    law_text = soup.decode_contents()\n",
    "\n",
    "    # 正規表現パターン\n",
    "    regex = re.compile(r'(?<=（)((?:令和|平成|昭和|大正|明治)[元一二三四五六七八九十]+年(?:法律|政令|(?:[^）]*?省令)|内閣府令)第[一二三四五六七八九十百千万]+号)(?:。以下「([^）]*?)」という。)?(?=）)')\n",
    "    \n",
    "    # 正規表現にマッチする部分を抽出\n",
    "    matches = regex.findall(law_text)\n",
    "    \n",
    "    for match in matches:\n",
    "        if match[0]:\n",
    "            search_results.append(match[0])\n",
    "            if match[1]:\n",
    "                synonym[match[0]] = match[1]\n",
    "    \n",
    "    # 正規表現パターン（略称名を別途定義する場合に対応）\n",
    "    for law_num in search_results:\n",
    "        regex_synonym = re.compile((f\"{law_dict[law_num]}\" if law_num in law_dict else law_num) + r\"（以下「([^「]*?)」という。）\")\n",
    "        # 正規表現にマッチする部分を抽出\n",
    "        matches = regex_synonym.findall(law_text)\n",
    "        for match in matches:\n",
    "            if match[0]:\n",
    "                synonym[law_num] = match[0]\n",
    "    \n",
    "    # searchResultsをソート\n",
    "    # 法律名の中には「貸付信託法」「信託法」のように短い法律名が長い法律名の一部になっているケースがあるため、誤った参照をしないように長さ順に並べ替えておく\n",
    "    search_results = sorted(search_results, key=lambda x: len(law_dict.get(x, x)), reverse=True)\n",
    "    for law_num in search_results:\n",
    "        # 他法令の参照箇所を探す正規表現\n",
    "        law_regex = re.compile(\n",
    "            '(?:' + (f\"{law_dict[law_num]}\" if law_num in law_dict else law_num) + (f\"|{synonym[law_num]}\" if law_num in synonym else \"\") + ')' +\n",
    "            r\"(?:（(?:\" + law_num + r\")?。?(?:以下「[^「]*?」という。)?）)?第([一二三四五六七八九十百千万]+)条(?:の([一二三四五六七八九十百千万]+))?(?:第([一二三四五六七八九十百千万]+)項)?(?:第([一二三四五六七八九十百千万]+)号)?\"\n",
    "        )\n",
    "\n",
    "        law_elements = soup.find_all(\"Sentence\")\n",
    "\n",
    "        for e in law_elements:\n",
    "            original_html = e.decode_contents()\n",
    "            results = law_regex.findall(original_html)\n",
    "            for result in results:\n",
    "                ref_provision_num, ref_article_num, ref_paragraph_num, ref_item_num, ref_text = getarticle(e)\n",
    "                referred_provision_num = 'MainProvision'\n",
    "                referred_article_num = kanji_to_number(result[0]) + ('_' + kanji_to_number(result[1]) if kanji_to_number(result[1]) !='' else '')\n",
    "                referred_paragraph_num = kanji_to_number(result[2])\n",
    "                referred_item_num = kanji_to_number(result[3])\n",
    "                return_list.append({\n",
    "                    'ref':{\n",
    "                        'lawNum':law_id,\n",
    "                        'lawArticle':{\n",
    "                            'provision':ref_provision_num,\n",
    "                            'article':ref_article_num,\n",
    "                            'paragraph':ref_paragraph_num,\n",
    "                            'item':ref_item_num,\n",
    "                        },\n",
    "                        'text':ref_text\n",
    "                    },\n",
    "                    'referred':{\n",
    "                        'lawNum':law_num,\n",
    "                        'lawArticle':{\n",
    "                            'provision':referred_provision_num,\n",
    "                            'article':referred_article_num,\n",
    "                            'paragraph':referred_paragraph_num,\n",
    "                            'item':referred_item_num,\n",
    "                        }\n",
    "                    },\n",
    "                })\n",
    "    return return_list\n"
   ]
  },
  {
   "cell_type": "markdown",
   "metadata": {},
   "source": [
    "all_law_list.csvに掲載されている「本文URL」は、「https://laws.e-gov.go.jp/law/」に続けて【法令ID】/【適用日】_【法令ID】となっている。\\\n",
    "XMLファイルは「all_xml」フォルダ内の「【法令ID】_【適用日】_【法令ID】」に格納されており、ファイル名も「【法令ID】_【適用日】_【法令ID】.xml」となっている。\\\n",
    "※以下2件が例外になっているがレアケースとして無視する\n",
    "- 205M10000200030_19431115_000000000000000 : 大正五年農商務省令第三十号（農商省主管歳入証券納付ニ関スル件）\n",
    "- 332M50000040015_20200907_502M60000040021 : 租税特別措置法施行規則"
   ]
  },
  {
   "cell_type": "code",
   "execution_count": 11,
   "metadata": {},
   "outputs": [
    {
     "data": {
      "application/vnd.jupyter.widget-view+json": {
       "model_id": "6ee4c17662184946af615c67e009422f",
       "version_major": 2,
       "version_minor": 0
      },
      "text/plain": [
       "  0%|          | 0/8836 [00:00<?, ?it/s]"
      ]
     },
     "metadata": {},
     "output_type": "display_data"
    }
   ],
   "source": [
    "reference_list = []\n",
    "for id,r in tqdm(all_law_list.iterrows(),total=len(all_law_list)):\n",
    "\n",
    "    url = r['本文URL']\n",
    "    path = url.replace('https://laws.e-gov.go.jp/law/','').replace('/','_')\n",
    "    if os.path.exists('./all_xml/' + path + '/' + path + '.xml'):\n",
    "        file = './all_xml/' + path + '/' + path + '.xml'\n",
    "        with open(file, mode='r', encoding='utf-8') as f:\n",
    "            soup = bs(f, features='xml')\n",
    "            reference_list += refer_list(soup, law_dict, id)"
   ]
  },
  {
   "cell_type": "code",
   "execution_count": 12,
   "metadata": {},
   "outputs": [],
   "source": [
    "reference_df = pd.json_normalize(reference_list,)"
   ]
  },
  {
   "cell_type": "code",
   "execution_count": 13,
   "metadata": {},
   "outputs": [],
   "source": [
    "reference_df.drop_duplicates(inplace=True)"
   ]
  },
  {
   "cell_type": "code",
   "execution_count": 14,
   "metadata": {},
   "outputs": [],
   "source": [
    "reference_df.loc[reference_df['referred.lawArticle.article']=='','referred.lawArticle.article'] = '0'\n",
    "reference_df.loc[reference_df['referred.lawArticle.paragraph']=='','referred.lawArticle.paragraph'] = '1'\n",
    "reference_df.loc[reference_df['referred.lawArticle.item']=='','referred.lawArticle.item'] = '0'"
   ]
  },
  {
   "cell_type": "code",
   "execution_count": 15,
   "metadata": {},
   "outputs": [],
   "source": [
    "reference_df.to_csv('reference.csv',index=False)"
   ]
  },
  {
   "cell_type": "code",
   "execution_count": 16,
   "metadata": {},
   "outputs": [],
   "source": [
    "referred_lawNum = reference_df['referred.lawNum'].unique()"
   ]
  },
  {
   "cell_type": "code",
   "execution_count": 17,
   "metadata": {},
   "outputs": [
    {
     "data": {
      "text/plain": [
       "4606"
      ]
     },
     "execution_count": 17,
     "metadata": {},
     "output_type": "execute_result"
    }
   ],
   "source": [
    "len(referred_lawNum)"
   ]
  },
  {
   "cell_type": "code",
   "execution_count": 18,
   "metadata": {},
   "outputs": [
    {
     "data": {
      "text/plain": [
       "3812"
      ]
     },
     "execution_count": 18,
     "metadata": {},
     "output_type": "execute_result"
    }
   ],
   "source": [
    "referred_lawNum = [lawNum for lawNum in referred_lawNum if law_dict.get(lawNum)]\n",
    "len(referred_lawNum)"
   ]
  },
  {
   "cell_type": "code",
   "execution_count": null,
   "metadata": {},
   "outputs": [],
   "source": []
  }
 ],
 "metadata": {
  "kernelspec": {
   "display_name": "Python 3",
   "language": "python",
   "name": "python3"
  },
  "language_info": {
   "codemirror_mode": {
    "name": "ipython",
    "version": 3
   },
   "file_extension": ".py",
   "mimetype": "text/x-python",
   "name": "python",
   "nbconvert_exporter": "python",
   "pygments_lexer": "ipython3",
   "version": "3.11.9"
  }
 },
 "nbformat": 4,
 "nbformat_minor": 2
}
