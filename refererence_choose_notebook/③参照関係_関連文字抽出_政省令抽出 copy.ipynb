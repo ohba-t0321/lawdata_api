{
 "cells": [
  {
   "cell_type": "code",
   "execution_count": 1,
   "metadata": {},
   "outputs": [],
   "source": [
    "import pandas as pd\n",
    "import json\n",
    "import os\n",
    "import re\n",
    "from tqdm.notebook import tqdm"
   ]
  },
  {
   "cell_type": "code",
   "execution_count": 2,
   "metadata": {},
   "outputs": [],
   "source": [
    "def conv_str(x):\n",
    "    if x == '':\n",
    "        return ''\n",
    "    elif pd.notnull(x):\n",
    "        try:\n",
    "            if '_' in x:\n",
    "                return x\n",
    "            else:\n",
    "                return str(int(float(x)))\n",
    "        except:\n",
    "            return x\n",
    "    else:\n",
    "        return ''\n"
   ]
  },
  {
   "cell_type": "code",
   "execution_count": 3,
   "metadata": {},
   "outputs": [],
   "source": [
    "all_law_list = pd.read_csv('./all_xml/all_law_list.csv')\n",
    "# 未施行のものはいったん無視する\n",
    "all_law_list = all_law_list[all_law_list['未施行'].isna()]\n",
    "# 法令番号をキーにできるようにする\n",
    "all_law_list.set_index('法令番号',inplace=True)"
   ]
  },
  {
   "cell_type": "code",
   "execution_count": 4,
   "metadata": {},
   "outputs": [
    {
     "name": "stdout",
     "output_type": "stream",
     "text": [
      "<class 'pandas.core.frame.DataFrame'>\n",
      "RangeIndex: 1267891 entries, 0 to 1267890\n",
      "Data columns (total 6 columns):\n",
      " #   Column     Non-Null Count    Dtype \n",
      "---  ------     --------------    ----- \n",
      " 0   lawNum     1267891 non-null  object\n",
      " 1   provision  1267891 non-null  object\n",
      " 2   article    1267891 non-null  object\n",
      " 3   paragraph  1267891 non-null  object\n",
      " 4   item       1267891 non-null  object\n",
      " 5   text       1267344 non-null  object\n",
      "dtypes: object(6)\n",
      "memory usage: 58.0+ MB\n"
     ]
    }
   ],
   "source": [
    "all_xml = pd.read_csv('all_xml.csv',dtype=str)\n",
    "all_xml.info()"
   ]
  },
  {
   "cell_type": "code",
   "execution_count": 5,
   "metadata": {},
   "outputs": [
    {
     "name": "stdout",
     "output_type": "stream",
     "text": [
      "<class 'pandas.core.frame.DataFrame'>\n",
      "RangeIndex: 480071 entries, 0 to 480070\n",
      "Data columns (total 11 columns):\n",
      " #   Column                         Non-Null Count   Dtype \n",
      "---  ------                         --------------   ----- \n",
      " 0   ref.lawNum                     480071 non-null  object\n",
      " 1   ref.lawArticle.provision       480071 non-null  object\n",
      " 2   ref.lawArticle.article         480071 non-null  object\n",
      " 3   ref.lawArticle.paragraph       480071 non-null  object\n",
      " 4   ref.lawArticle.item            480071 non-null  object\n",
      " 5   ref.text                       480071 non-null  object\n",
      " 6   referred.lawNum                480071 non-null  object\n",
      " 7   referred.lawArticle.provision  480071 non-null  object\n",
      " 8   referred.lawArticle.article    480071 non-null  object\n",
      " 9   referred.lawArticle.paragraph  480071 non-null  object\n",
      " 10  referred.lawArticle.item       480071 non-null  object\n",
      "dtypes: object(11)\n",
      "memory usage: 40.3+ MB\n"
     ]
    }
   ],
   "source": [
    "reference = pd.read_csv('reference.csv',converters={'ref.lawArticle.article':conv_str, 'ref.lawArticle.paragraph':conv_str, 'ref.lawArticle.item':conv_str,'referred.lawArticle.article':conv_str, 'referred.lawArticle.paragraph':conv_str, 'referred.lawArticle.item':conv_str})\n",
    "reference.info()"
   ]
  },
  {
   "cell_type": "code",
   "execution_count": 6,
   "metadata": {},
   "outputs": [],
   "source": [
    "reference_text = reference.merge(all_xml,\n",
    "                                 how='left', \n",
    "                                 left_on=['referred.lawNum', 'referred.lawArticle.provision', 'referred.lawArticle.article', 'referred.lawArticle.paragraph', 'referred.lawArticle.item'],\n",
    "                                 right_on=['lawNum', 'provision', 'article', 'paragraph', 'item'])"
   ]
  },
  {
   "cell_type": "code",
   "execution_count": 7,
   "metadata": {},
   "outputs": [
    {
     "name": "stdout",
     "output_type": "stream",
     "text": [
      "<class 'pandas.core.frame.DataFrame'>\n",
      "Index: 389661 entries, 0 to 480070\n",
      "Data columns (total 12 columns):\n",
      " #   Column                         Non-Null Count   Dtype \n",
      "---  ------                         --------------   ----- \n",
      " 0   ref.lawNum                     389661 non-null  object\n",
      " 1   ref.lawArticle.provision       389661 non-null  object\n",
      " 2   ref.lawArticle.article         389661 non-null  object\n",
      " 3   ref.lawArticle.paragraph       389661 non-null  object\n",
      " 4   ref.lawArticle.item            389661 non-null  object\n",
      " 5   ref.text                       389661 non-null  object\n",
      " 6   referred.lawNum                389661 non-null  object\n",
      " 7   referred.lawArticle.provision  389661 non-null  object\n",
      " 8   referred.lawArticle.article    389661 non-null  object\n",
      " 9   referred.lawArticle.paragraph  389661 non-null  object\n",
      " 10  referred.lawArticle.item       389661 non-null  object\n",
      " 11  referred.text                  389661 non-null  object\n",
      "dtypes: object(12)\n",
      "memory usage: 38.6+ MB\n"
     ]
    }
   ],
   "source": [
    "reference_text.drop(['lawNum', 'provision', 'article', 'paragraph', 'item'],axis=1,inplace=True)\n",
    "reference_text.rename(columns={'text':'referred.text'},inplace=True)\n",
    "reference_text = reference_text[reference_text['referred.text'].notna()]\n",
    "reference_text.drop_duplicates(inplace=True)\n",
    "reference_text.info()"
   ]
  },
  {
   "cell_type": "code",
   "execution_count": null,
   "metadata": {},
   "outputs": [],
   "source": []
  },
  {
   "cell_type": "code",
   "execution_count": null,
   "metadata": {},
   "outputs": [],
   "source": []
  },
  {
   "cell_type": "code",
   "execution_count": 8,
   "metadata": {},
   "outputs": [],
   "source": [
    "# ～を定める政令となっているものは法令上で「政令で定める」となっているため、何かの法令を参照しているはず。該当する法令を抽出する\n",
    "seirei_law_list = all_law_list[all_law_list['法令名'].str.contains('定める')]\n",
    "seirei_law = seirei_law_list.index.to_list()"
   ]
  },
  {
   "cell_type": "code",
   "execution_count": 9,
   "metadata": {},
   "outputs": [],
   "source": [
    "ref_seirei = reference_text[reference_text['ref.lawNum'].isin(seirei_law)]\n",
    "ref_seirei = ref_seirei.merge(all_law_list['法令名'],left_on='ref.lawNum',right_index=True)\n",
    "ref_seirei.rename(columns={'法令名':'ref.lawName'},inplace=True)\n",
    "ref_seirei = ref_seirei.merge(all_law_list['法令名'],left_on='referred.lawNum',right_index=True)\n",
    "ref_seirei.rename(columns={'法令名':'referred.lawName'},inplace=True)"
   ]
  },
  {
   "cell_type": "code",
   "execution_count": 10,
   "metadata": {},
   "outputs": [],
   "source": [
    "def all_common_substrings(str1, str2,keyword='令で定める'):\n",
    "    common_substrings = ['',]\n",
    "    len1, len2 = len(str1), len(str2)\n",
    "    match1 = re.finditer(keyword,str1)\n",
    "    match2 = re.finditer(keyword,str2)\n",
    "\n",
    "    # 「○令で定める～」にヒットする場所をすべて抽出し、前後の文言が一致しているところを抽出する\n",
    "    for m1 in match1:\n",
    "        for m2 in match2:\n",
    "            pos1 = m1.start()\n",
    "            pos2 = m2.start()\n",
    "            pre_position = -1\n",
    "            # str1とstr2の部分文字列を比較\n",
    "            for pre in range(pos1+1):\n",
    "                # 1文字ずつ「令に定める」の前に位置をずらしていき、一致する位置を記憶する\n",
    "                if str1[pos1-pre:pos1+5] == str2[pos2-pre:pos2+5]:\n",
    "                    pre_position = pre\n",
    "                else:\n",
    "                    break\n",
    "            if pre_position >= 0:\n",
    "                for post in range(len1-pos1-5+1):\n",
    "                    # 1文字ずつ「令に定める」の後に位置をずらしていき、一致する位置を記憶する\n",
    "                    if str1[pos1-pre_position:pos1+5+post] == str2[pos2-pre_position:pos2+5+post]:\n",
    "                        # 一致したらリストに追加する\n",
    "                        common_substrings.append(str1[pos1-pre_position:pos1+5+post])\n",
    "                    else:\n",
    "                        break\n",
    "    # リストの中で最長の単語を抜き出す\n",
    "    return max(common_substrings,key=len)"
   ]
  },
  {
   "cell_type": "code",
   "execution_count": 11,
   "metadata": {},
   "outputs": [
    {
     "name": "stderr",
     "output_type": "stream",
     "text": [
      "C:\\Users\\to198\\AppData\\Local\\Temp\\ipykernel_13332\\1281140212.py:6: SettingWithCopyWarning: \n",
      "A value is trying to be set on a copy of a slice from a DataFrame.\n",
      "Try using .loc[row_indexer,col_indexer] = value instead\n",
      "\n",
      "See the caveats in the documentation: https://pandas.pydata.org/pandas-docs/stable/user_guide/indexing.html#returning-a-view-versus-a-copy\n",
      "  reference_text_seirei['match'] = reference_text_seirei.apply(lambda row:all_common_substrings(row['ref.text'],row['referred.text'],keyword='令で定める'), axis=1)\n"
     ]
    }
   ],
   "source": [
    "# 政令で定める、省令で定める、府令で定める、命令で定める、規則で定めるという記載があるものをマッチング\n",
    "from anyio import key\n",
    "\n",
    "\n",
    "reference_text_seirei = reference_text[(reference_text['ref.text'].str.contains('で定める'))&(reference_text['referred.text'].str.contains('で定める'))]\n",
    "reference_text_seirei['match'] = reference_text_seirei.apply(lambda row:all_common_substrings(row['ref.text'],row['referred.text'],keyword='令で定める'), axis=1)\n",
    "reference_text_seirei.loc[reference_text_seirei['match']=='','match'] = reference_text_seirei[reference_text_seirei['match']==''].apply(lambda row:all_common_substrings(row['ref.text'],row['referred.text'],keyword='規則で定める'), axis=1)\n",
    "reference_text_seirei = reference_text_seirei[reference_text_seirei['match']!='']"
   ]
  },
  {
   "cell_type": "code",
   "execution_count": 12,
   "metadata": {},
   "outputs": [
    {
     "data": {
      "text/plain": [
       "44238"
      ]
     },
     "execution_count": 12,
     "metadata": {},
     "output_type": "execute_result"
    }
   ],
   "source": [
    "len(reference_text_seirei)"
   ]
  },
  {
   "cell_type": "code",
   "execution_count": 13,
   "metadata": {},
   "outputs": [],
   "source": [
    "# 政省令名が「～を定める○○」というものについては、何かの法令と関連するはずなので紐づける\n",
    "ref_seirei = ref_seirei[ref_seirei['ref.text'].str.contains('で定める')]\n",
    "ref_seirei['match'] = ref_seirei.apply(lambda row:all_common_substrings(row['ref.text'],row['referred.text'],keyword='令で定める'), axis=1)\n",
    "ref_seirei.loc[ref_seirei['match']=='','match'] = ref_seirei[ref_seirei['match']==''].apply(lambda row:all_common_substrings(row['ref.text'],row['referred.text'],keyword='規則で定める'), axis=1)\n",
    "ref_seirei.loc[ref_seirei['match']=='','match'] = ref_seirei[ref_seirei['match']==''].apply(lambda row:all_common_substrings(row['ref.lawName'],row['referred.text'],keyword='令で定める'), axis=1)\n",
    "ref_seirei.loc[ref_seirei['match']=='','match'] = ref_seirei[ref_seirei['match']==''].apply(lambda row:all_common_substrings(row['ref.lawName'],row['referred.text'],keyword='規則で定める'), axis=1)\n",
    "ref_seirei.drop(['ref.lawName','referred.lawName'],axis=1,inplace=True)"
   ]
  },
  {
   "cell_type": "code",
   "execution_count": 14,
   "metadata": {},
   "outputs": [
    {
     "data": {
      "text/plain": [
       "2101"
      ]
     },
     "execution_count": 14,
     "metadata": {},
     "output_type": "execute_result"
    }
   ],
   "source": [
    "len(ref_seirei)"
   ]
  },
  {
   "cell_type": "code",
   "execution_count": 15,
   "metadata": {},
   "outputs": [],
   "source": [
    "reference_text_seirei = pd.concat([reference_text_seirei, ref_seirei])\n",
    "reference_text_seirei.drop_duplicates(inplace=True)"
   ]
  },
  {
   "cell_type": "code",
   "execution_count": 16,
   "metadata": {},
   "outputs": [
    {
     "data": {
      "text/plain": [
       "44804"
      ]
     },
     "execution_count": 16,
     "metadata": {},
     "output_type": "execute_result"
    }
   ],
   "source": [
    "len(reference_text_seirei)"
   ]
  },
  {
   "cell_type": "code",
   "execution_count": 17,
   "metadata": {},
   "outputs": [],
   "source": [
    "l = ['1','2','3']"
   ]
  },
  {
   "cell_type": "code",
   "execution_count": 18,
   "metadata": {},
   "outputs": [],
   "source": [
    "# ソート用の関数を定義\n",
    "def convert_to_sortable_number(article):\n",
    "    if '_' in article:\n",
    "        # 「_」で分割し、主番号と枝番号を分ける\n",
    "        nums = article.split('_')\n",
    "        return float(f\"{nums[0]}.\"+''.join([f'{int(nums[i]):03d}' for i in range(1,len(nums))]))\n",
    "    else:\n",
    "        # 「_」がない場合は整数に変換\n",
    "        return float(article)"
   ]
  },
  {
   "cell_type": "code",
   "execution_count": 19,
   "metadata": {},
   "outputs": [
    {
     "name": "stderr",
     "output_type": "stream",
     "text": [
      "C:\\Users\\to198\\AppData\\Local\\Temp\\ipykernel_13332\\343042868.py:3: FutureWarning: A value is trying to be set on a copy of a DataFrame or Series through chained assignment using an inplace method.\n",
      "The behavior will change in pandas 3.0. This inplace method will never work because the intermediate object on which we are setting values always behaves as a copy.\n",
      "\n",
      "For example, when doing 'df[col].method(value, inplace=True)', try using 'df.method({col: value}, inplace=True)' or df[col] = df[col].method(value) instead, to perform the operation inplace on the original object.\n",
      "\n",
      "\n",
      "  reference_text['match'].fillna('★引用個所不明★',inplace=True) # 法令で出てこないであろう★マークで埋める（アプリでは文末に「引用条文」の項目を付加することにする）\n"
     ]
    }
   ],
   "source": [
    "# マッチした結果をもとのデータに戻す\n",
    "reference_text['match'] = reference_text_seirei['match']\n",
    "reference_text['match'].fillna('★引用個所不明★',inplace=True) # 法令で出てこないであろう★マークで埋める（アプリでは文末に「引用条文」の項目を付加することにする）"
   ]
  },
  {
   "cell_type": "code",
   "execution_count": 20,
   "metadata": {},
   "outputs": [],
   "source": [
    "# のちに作成するjsonのデータのためにデータをソートする\n",
    "sort_row = [\n",
    "    'ref.lawArticle.article',\n",
    "    'ref.lawArticle.paragraph',\n",
    "    'ref.lawArticle.item',\n",
    "    'referred.lawArticle.article',\n",
    "    'referred.lawArticle.paragraph',\n",
    "    'referred.lawArticle.item',\n",
    "]\n",
    "# ソートキーを追加\n",
    "sort_row_key = [\n",
    "    'referred.lawNum',\n",
    "    'referred.lawArticle.provision',\n",
    "    'referred.lawArticle.article_key',\n",
    "    'referred.lawArticle.paragraph_key',\n",
    "    'referred.lawArticle.item_key',\n",
    "    'ref.lawNum',\n",
    "    'ref.lawArticle.provision',\n",
    "    'ref.lawArticle.article_key',\n",
    "    'ref.lawArticle.paragraph_key',\n",
    "    'ref.lawArticle.item_key',\n",
    "]\n",
    "drop_key = [\n",
    "    'ref.lawArticle.article_key',\n",
    "    'ref.lawArticle.paragraph_key',\n",
    "    'ref.lawArticle.item_key',\n",
    "    'referred.lawArticle.article_key',\n",
    "    'referred.lawArticle.paragraph_key',\n",
    "    'referred.lawArticle.item_key',\n",
    "]\n",
    "for r in sort_row:\n",
    "    reference_text[r + '_key'] = reference_text[r].apply(convert_to_sortable_number)\n",
    "# ソートの実行\n",
    "reference_text = reference_text.sort_values(by=sort_row_key).reset_index(drop=True)\n",
    "\n",
    "# ソートキーの削除\n",
    "reference_text = reference_text.drop(columns=drop_key)"
   ]
  },
  {
   "cell_type": "code",
   "execution_count": 21,
   "metadata": {},
   "outputs": [],
   "source": [
    "# ネストされたキーを復元する関数\n",
    "def nest_dict(flat_dict):\n",
    "    result = {}\n",
    "    for key, value in flat_dict.items():\n",
    "        keys = key.split('.')\n",
    "        d = result\n",
    "        for k in keys[:-1]:\n",
    "            d = d.setdefault(k, {})\n",
    "        d[keys[-1]] = value\n",
    "    return result"
   ]
  },
  {
   "cell_type": "code",
   "execution_count": 22,
   "metadata": {},
   "outputs": [],
   "source": [
    "# サブフォルダの存在確認と作成\n",
    "subfolder = './ref_json'\n",
    "if not os.path.exists(subfolder):\n",
    "    os.makedirs(subfolder)"
   ]
  },
  {
   "cell_type": "code",
   "execution_count": 23,
   "metadata": {},
   "outputs": [
    {
     "data": {
      "application/vnd.jupyter.widget-view+json": {
       "model_id": "25a345e44e39498f95b860215cffe0d1",
       "version_major": 2,
       "version_minor": 0
      },
      "text/plain": [
       "  0%|          | 0/3779 [00:00<?, ?it/s]"
      ]
     },
     "metadata": {},
     "output_type": "display_data"
    }
   ],
   "source": [
    "for lawnum in tqdm(reference_text['referred.lawNum'].unique()):\n",
    "    reference_json = reference_text[reference_text['referred.lawNum']==lawnum].to_json(orient='records')\n",
    "    reference_dict = json.loads(reference_json)\n",
    "    # フラット化されたデータを再度ネスト\n",
    "    nested_data = [nest_dict(d) for d in reference_dict]\n",
    "    # 再びJSON形式に変換\n",
    "    with open(f'{subfolder}/{lawnum}.json',mode='w',encoding='utf-8') as f:\n",
    "        json.dump(nested_data, f, ensure_ascii=False, indent=4)"
   ]
  },
  {
   "cell_type": "code",
   "execution_count": null,
   "metadata": {},
   "outputs": [],
   "source": []
  }
 ],
 "metadata": {
  "kernelspec": {
   "display_name": "Python 3",
   "language": "python",
   "name": "python3"
  },
  "language_info": {
   "codemirror_mode": {
    "name": "ipython",
    "version": 3
   },
   "file_extension": ".py",
   "mimetype": "text/x-python",
   "name": "python",
   "nbconvert_exporter": "python",
   "pygments_lexer": "ipython3",
   "version": "3.11.9"
  }
 },
 "nbformat": 4,
 "nbformat_minor": 2
}
